{
 "cells": [
  {
   "cell_type": "markdown",
   "metadata": {
    "tags": []
   },
   "source": [
    "# WeatherPy\n",
    "\n",
    "---\n",
    "\n",
    "## Starter Code to Generate Random Geographic Coordinates and a List of Cities"
   ]
  },
  {
   "cell_type": "code",
   "execution_count": null,
   "metadata": {
    "scrolled": true
   },
   "outputs": [],
   "source": [
    "# Dependencies and Setup\n",
    "import os\n",
    "import matplotlib.pyplot as plt\n",
    "import pandas as pd\n",
    "import numpy as np\n",
    "import requests\n",
    "import time\n",
    "from scipy.stats import linregress\n",
    "from pprint import pprint\n",
    "\n",
    "\n",
    "# Impor the OpenWeatherMap API key\n",
    "from api_keys import weather_api_key\n",
    "\n",
    "# Import citipy to determine the cities based on latitude and longitude\n",
    "from citipy import citipy"
   ]
  },
  {
   "cell_type": "markdown",
   "metadata": {},
   "source": [
    "### Generate the Cities List by Using the `citipy` Library"
   ]
  },
  {
   "cell_type": "code",
   "execution_count": null,
   "metadata": {},
   "outputs": [],
   "source": [
    "# Empty list for holding the latitude and longitude combinations\n",
    "lat_lngs = []\n",
    "\n",
    "# Empty list for holding the cities names\n",
    "cities = []\n",
    "\n",
    "# Range of latitudes and longitudes\n",
    "lat_range = (-90, 90)\n",
    "lng_range = (-180, 180)\n",
    "\n",
    "# Create a set of random lat and lng combinations\n",
    "lats = np.random.uniform(lat_range[0], lat_range[1], size=1500)\n",
    "lngs = np.random.uniform(lng_range[0], lng_range[1], size=1500)\n",
    "lat_lngs = zip(lats, lngs)\n",
    "\n",
    "# Identify nearest city for each lat, lng combination\n",
    "for lat_lng in lat_lngs:\n",
    "    city = citipy.nearest_city(lat_lng[0], lat_lng[1]).city_name\n",
    "    \n",
    "    # If the city is unique, then add it to a our cities list\n",
    "    if city not in cities:\n",
    "        cities.append(city)\n",
    "\n",
    "# Print the city count to confirm sufficient count\n",
    "print(f\"Number of cities in the list: {len(cities)}\")"
   ]
  },
  {
   "cell_type": "markdown",
   "metadata": {},
   "source": [
    "---"
   ]
  },
  {
   "cell_type": "markdown",
   "metadata": {},
   "source": [
    "## Requirement 1: Create Plots to Showcase the Relationship Between Weather Variables and Latitude\n",
    "\n",
    "### Use the OpenWeatherMap API to retrieve weather data from the cities list generated in the started code"
   ]
  },
  {
   "cell_type": "code",
   "execution_count": null,
   "metadata": {
    "scrolled": true
   },
   "outputs": [],
   "source": [
    "# Set the API base URL\n",
    "url = \"http://api.openweathermap.org/data/2.5/weather?\"\n",
    "api_key = weather_api_key\n",
    "units = \"imperial\"\n",
    "\n",
    "# Define Empty Data Frame to store city data\n",
    "city_data_df = pd.DataFrame(columns=['City', 'Lat', 'Lng', 'Max Temp','Humidity', 'Cloudiness',\n",
    "                                     'Wind Speed', 'Country', 'Date'])\n",
    "\n",
    "# Print to logger\n",
    "print(\"Beginning Data Retrieval     \")\n",
    "print(\"-----------------------------\")\n",
    "\n",
    "# Create counters\n",
    "record_count = 1\n",
    "set_count = 1\n",
    "\n",
    "# Loop through all the cities in our list to fetch weather data\n",
    "for i, city in enumerate(cities):\n",
    "        \n",
    "    # Group cities in sets of 50 for logging purposes\n",
    "    if (i % 50 == 0 and i >= 50):\n",
    "        set_count += 1\n",
    "        record_count = 0\n",
    "\n",
    "    # Create endpoint URL with each city\n",
    "    city_url = f\"{url}appid={api_key}&units={units}&q={city}\"\n",
    "    \n",
    "    # Log the url, record, and set numbers\n",
    "    print(\"Processing Record %s of Set %s | %s\" % (record_count, set_count, city))\n",
    "    \n",
    "    # Add 1 to the record count\n",
    "    record_count += 1\n",
    "\n",
    "    # Run an API request for each of the cities\n",
    "    try:\n",
    "        # Parse the JSON and retrieve data\n",
    "        city_data = requests.get(city_url).json()\n",
    "\n",
    "        # Parse out latitude, longitude, max temp, humidity, cloudiness, wind speed, country, and date\n",
    "        city_lat = city_data['coord']['lat']\n",
    "        city_lng = city_data['coord']['lon']\n",
    "        city_max_temp = city_data['main']['temp_max']\n",
    "        city_humidity = city_data['main']['humidity']\n",
    "        city_clouds = city_data['clouds']['all']\n",
    "        city_wind = city_data['wind']['speed']\n",
    "        city_country = city_data['sys']['country']\n",
    "        city_date = city_data['dt']\n",
    "\n",
    "        # Append the City Data into city_data_df\n",
    "        temp_df = pd.DataFrame({  \"City\": city, \n",
    "                                  \"Lat\": city_lat, \n",
    "                                  \"Lng\": city_lng, \n",
    "                                  \"Max Temp\": city_max_temp,\n",
    "                                  \"Humidity\": city_humidity,\n",
    "                                  \"Cloudiness\": city_clouds,\n",
    "                                  \"Wind Speed\": city_wind,\n",
    "                                  \"Country\": city_country,\n",
    "                                  \"Date\": city_date},\n",
    "                                                     index=[0])\n",
    "\n",
    "        city_data_df = pd.concat([city_data_df, temp_df], axis=0,ignore_index=True)\n",
    "        \n",
    "    except:\n",
    "        print(\"City not found. Skipping...\")\n",
    "        pass\n",
    "        \n",
    "        \n",
    "# Indicate that Data Loading is complete \n",
    "print(\"-----------------------------\")\n",
    "print(f\"Data Retrieval Complete: Found {city_data_df.count()} Cities\")\n",
    "print(\"-----------------------------\")"
   ]
  },
  {
   "cell_type": "code",
   "execution_count": null,
   "metadata": {},
   "outputs": [],
   "source": [
    "# Show Record Count\n",
    "city_data_df.count()"
   ]
  },
  {
   "cell_type": "code",
   "execution_count": null,
   "metadata": {},
   "outputs": [],
   "source": [
    "# Display sample data\n",
    "city_data_df.head()"
   ]
  },
  {
   "cell_type": "code",
   "execution_count": null,
   "metadata": {},
   "outputs": [],
   "source": [
    "# Export the City_Data into a csv\n",
    "\n",
    "city_data_df.to_csv(os.path.join(\"..\",\"output_data\", \"cities.csv\"), index_label=\"City_ID\")"
   ]
  },
  {
   "cell_type": "code",
   "execution_count": null,
   "metadata": {},
   "outputs": [],
   "source": [
    "# Read saved data\n",
    "city_data_df = pd.read_csv(os.path.join(\"..\",\"output_data\", \"cities.csv\"), index_col=\"City_ID\")\n",
    "\n",
    "# Display sample data\n",
    "city_data_df.head()"
   ]
  },
  {
   "cell_type": "markdown",
   "metadata": {},
   "source": [
    "### Create the Scatter Plots Requested\n",
    "\n",
    "#### Latitude Vs. Temperature"
   ]
  },
  {
   "cell_type": "code",
   "execution_count": null,
   "metadata": {
    "tags": []
   },
   "outputs": [],
   "source": [
    "# Build scatter plot for latitude vs. temperature\n",
    "city_data_df.plot(kind='scatter', x='Lat', y='Max Temp',\n",
    "                 title='Latitude vs. Temperature', xlabel='Latitude', ylabel='Max Temp (F)', marker='x', color='red')\n",
    "\n",
    "# Incorporate the other graph properties\n",
    "# YOUR CODE HERE\n",
    "\n",
    "# Save the figure\n",
    "#plt.savefig(os.path.join(\"..\",\"output_data\",\"Fig1.png\"))\n",
    "\n",
    "# Show plot\n",
    "plt.show()"
   ]
  },
  {
   "cell_type": "markdown",
   "metadata": {},
   "source": [
    "#### Latitude Vs. Humidity"
   ]
  },
  {
   "cell_type": "code",
   "execution_count": null,
   "metadata": {},
   "outputs": [],
   "source": [
    "# Build the scatter plots for latitude vs. humidity\n",
    "city_data_df.plot(kind='scatter', x='Lat', y='Humidity',\n",
    "                 title='Latitude vs. Humidity', xlabel='Latitude', ylabel='Humidity (%)', marker='x', color='blue')\n",
    "\n",
    "# Incorporate the other graph properties\n",
    "# YOUR CODE HERE\n",
    "\n",
    "# Save the figure\n",
    "#plt.savefig(os.path.join(\"..\",\"output_data\",\"Fig2.png\"))\n",
    "\n",
    "# Show plot\n",
    "plt.show()"
   ]
  },
  {
   "cell_type": "markdown",
   "metadata": {},
   "source": [
    "#### Latitude Vs. Cloudiness"
   ]
  },
  {
   "cell_type": "code",
   "execution_count": null,
   "metadata": {},
   "outputs": [],
   "source": [
    "# Build the scatter plots for latitude vs. cloudiness\n",
    "city_data_df.plot(kind='scatter', x='Lat', y='Cloudiness',\n",
    "                 title='Latitude vs. Cloudiness', xlabel='Latitude', ylabel='Cloudiness (%)', marker='x', color='grey')\n",
    "\n",
    "# Incorporate the other graph properties\n",
    "# YOUR CODE HERE\n",
    "\n",
    "# Save the figure\n",
    "#plt.savefig(os.path.join(\"..\",\"output_data\",\"Fig3.png\"))\n",
    "\n",
    "# Show plot\n",
    "plt.show()"
   ]
  },
  {
   "cell_type": "markdown",
   "metadata": {},
   "source": [
    "#### Latitude vs. Wind Speed Plot"
   ]
  },
  {
   "cell_type": "code",
   "execution_count": null,
   "metadata": {},
   "outputs": [],
   "source": [
    "# Build the scatter plots for latitude vs. wind speed\n",
    "city_data_df.plot(kind='scatter', x='Lat', y='Wind Speed',\n",
    "                 title='Latitude vs. Wind Speed', xlabel='Latitude', ylabel='Wind Speed (mph)', marker='x', color='silver')\n",
    "\n",
    "# Incorporate the other graph properties\n",
    "# YOUR CODE HERE\n",
    "\n",
    "# Save the figure\n",
    "#plt.savefig(os.path.join(\"..\",\"output_data\",\"Fig4.png\"))\n",
    "\n",
    "# Show plot\n",
    "plt.show()"
   ]
  },
  {
   "cell_type": "markdown",
   "metadata": {},
   "source": [
    "---\n",
    "\n",
    "## Requirement 2: Compute Linear Regression for Each Relationship\n"
   ]
  },
  {
   "cell_type": "code",
   "execution_count": null,
   "metadata": {},
   "outputs": [],
   "source": [
    "# Define a function to create Linear Regression plots\n",
    "def linear_reg(x_values,y_values):\n",
    "    line = np.polyfit(x_values, y_values,1)\n",
    "    linear_reg_line = np.poly1d(line)\n",
    "    return linear_reg_line(x_values)\n"
   ]
  },
  {
   "cell_type": "code",
   "execution_count": null,
   "metadata": {},
   "outputs": [],
   "source": [
    "# Create a DataFrame with the Northern Hemisphere data (Latitude >= 0)\n",
    "northern_hemi_df = city_data_df[city_data_df['Lat'] >= 0]\n",
    "\n",
    "# Display sample data\n",
    "northern_hemi_df.head()"
   ]
  },
  {
   "cell_type": "code",
   "execution_count": null,
   "metadata": {},
   "outputs": [],
   "source": [
    "# Create a DataFrame with the Southern Hemisphere data (Latitude < 0)\n",
    "southern_hemi_df  = city_data_df[city_data_df['Lat'] < 0]\n",
    "\n",
    "\n",
    "# Display sample data\n",
    "southern_hemi_df.head()"
   ]
  },
  {
   "cell_type": "markdown",
   "metadata": {},
   "source": [
    "###  Temperature vs. Latitude Linear Regression Plot"
   ]
  },
  {
   "cell_type": "code",
   "execution_count": null,
   "metadata": {},
   "outputs": [],
   "source": [
    "import scipy.stats as st"
   ]
  },
  {
   "cell_type": "code",
   "execution_count": null,
   "metadata": {},
   "outputs": [],
   "source": [
    "# Linear regression on Northern Hemisphere\n",
    "northern_hemi_df.plot(kind='scatter', x='Lat', y='Max Temp',\n",
    "                 title='Latitude vs. Temperature', xlabel='Latitude', ylabel='Max Temp (F)', marker='x', color='red')\n",
    "n_lat_temp_reg = linear_reg(northern_hemi_df['Lat'], northern_hemi_df['Max Temp'])\n",
    "\n",
    "plt.plot(northern_hemi_df['Lat'], n_lat_temp_reg, color='b')\n",
    "plt.show()\n",
    "\n",
    "correlation = round(st.pearsonr(northern_hemi_df['Lat'], northern_hemi_df['Max Temp'])[0],2)\n",
    "print(f\"There was a correlation value of: {correlation}\")"
   ]
  },
  {
   "cell_type": "code",
   "execution_count": null,
   "metadata": {},
   "outputs": [],
   "source": [
    "# Linear regression on Southern Hemisphere\n",
    "southern_hemi_df.plot(kind='scatter', x='Lat', y='Max Temp',\n",
    "                 title='Latitude vs. Temperature', xlabel='Latitude', ylabel='Max Temp (F)', marker='x', color='red')\n",
    "s_lat_temp_reg = linear_reg(southern_hemi_df['Lat'], southern_hemi_df['Max Temp'])\n",
    "\n",
    "plt.plot(southern_hemi_df['Lat'], s_lat_temp_reg, color='b')\n",
    "plt.show()\n",
    "\n",
    "correlation = round(st.pearsonr(southern_hemi_df['Lat'], southern_hemi_df['Max Temp'])[0],2)\n",
    "print(f\"There was a correlation value of: {correlation}\")"
   ]
  },
  {
   "cell_type": "markdown",
   "metadata": {},
   "source": [
    "**Discussion about the linear relationship:** YOUR RESPONSE HERE"
   ]
  },
  {
   "cell_type": "markdown",
   "metadata": {},
   "source": [
    "### Humidity vs. Latitude Linear Regression Plot"
   ]
  },
  {
   "cell_type": "code",
   "execution_count": null,
   "metadata": {},
   "outputs": [],
   "source": [
    "# Northern Hemisphere\n",
    "northern_hemi_df.plot(kind='scatter', x='Lat', y='Humidity',\n",
    "                 title='Latitude vs. Humidity', xlabel='Latitude', ylabel='Humidity', marker='x', color='red')\n",
    "n_lat_hum_reg = linear_reg(northern_hemi_df['Lat'], northern_hemi_df['Humidity'])\n",
    "\n",
    "plt.plot(northern_hemi_df['Lat'], n_lat_hum_reg, color='b')\n",
    "plt.show()\n",
    "\n",
    "correlation = round(st.pearsonr(northern_hemi_df['Lat'], northern_hemi_df['Humidity'])[0],2)\n",
    "print(f\"There was a correlation value of: {correlation}\")"
   ]
  },
  {
   "cell_type": "code",
   "execution_count": null,
   "metadata": {},
   "outputs": [],
   "source": [
    "# Southern Hemisphere\n",
    "southern_hemi_df.plot(kind='scatter', x='Lat', y='Humidity',\n",
    "                 title='Latitude vs. Humidity', xlabel='Latitude', ylabel='Humidity', marker='x', color='red')\n",
    "s_lat_hum_reg = linear_reg(southern_hemi_df['Lat'], southern_hemi_df['Humidity'])\n",
    "\n",
    "plt.plot(southern_hemi_df['Lat'], s_lat_hum_reg, color='b')\n",
    "plt.show()\n",
    "\n",
    "correlation = round(st.pearsonr(southern_hemi_df['Lat'], southern_hemi_df['Humidity'])[0],2)\n",
    "print(f\"There was a correlation value of: {correlation}\")"
   ]
  },
  {
   "cell_type": "markdown",
   "metadata": {},
   "source": [
    "**Discussion about the linear relationship:** YOUR RESPONSE HERE"
   ]
  },
  {
   "cell_type": "markdown",
   "metadata": {},
   "source": [
    "### Cloudiness vs. Latitude Linear Regression Plot"
   ]
  },
  {
   "cell_type": "code",
   "execution_count": null,
   "metadata": {},
   "outputs": [],
   "source": [
    "# Northern Hemisphere\n",
    "northern_hemi_df.plot(kind='scatter', x='Lat', y='Cloudiness',\n",
    "                 title='Latitude vs. Cloudiness', xlabel='Latitude', ylabel='Cloudiness', marker='x', color='red')\n",
    "n_lat_cloud_reg = linear_reg(northern_hemi_df['Lat'], northern_hemi_df['Cloudiness'])\n",
    "\n",
    "plt.plot(northern_hemi_df['Lat'], n_lat_cloud_reg, color='b')\n",
    "plt.show()\n",
    "\n",
    "correlation = round(st.pearsonr(northern_hemi_df['Lat'], northern_hemi_df['Cloudiness'])[0],2)\n",
    "print(f\"There was a correlation value of: {correlation}\")"
   ]
  },
  {
   "cell_type": "code",
   "execution_count": null,
   "metadata": {},
   "outputs": [],
   "source": [
    "# Southern Hemisphere\n",
    "southern_hemi_df.plot(kind='scatter', x='Lat', y='Cloudiness',\n",
    "                 title='Latitude vs. Cloudiness', xlabel='Latitude', ylabel='Cloudiness', marker='x', color='red')\n",
    "s_lat_cloud_reg = linear_reg(southern_hemi_df['Lat'], southern_hemi_df['Cloudiness'])\n",
    "\n",
    "plt.plot(southern_hemi_df['Lat'], s_lat_cloud_reg, color='b')\n",
    "plt.show()\n",
    "\n",
    "correlation = round(st.pearsonr(southern_hemi_df['Lat'], southern_hemi_df['Cloudiness'])[0],2)\n",
    "print(f\"There was a correlation value of: {correlation}\")"
   ]
  },
  {
   "cell_type": "markdown",
   "metadata": {},
   "source": [
    "**Discussion about the linear relationship:** YOUR RESPONSE HERE"
   ]
  },
  {
   "cell_type": "markdown",
   "metadata": {},
   "source": [
    "### Wind Speed vs. Latitude Linear Regression Plot"
   ]
  },
  {
   "cell_type": "code",
   "execution_count": null,
   "metadata": {},
   "outputs": [],
   "source": [
    "# Northern Hemisphere\n",
    "northern_hemi_df.plot(kind='scatter', x='Lat', y='Wind Speed',\n",
    "                 title='Latitude vs. Wind Speed (mph)', xlabel='Latitude', ylabel='Wind Speed (mph)', marker='x', color='red')\n",
    "n_lat_wind_reg = linear_reg(northern_hemi_df['Lat'], northern_hemi_df['Wind Speed'])\n",
    "\n",
    "plt.plot(northern_hemi_df['Lat'], n_lat_wind_reg, color='b')\n",
    "plt.show()\n",
    "\n",
    "correlation = round(st.pearsonr(northern_hemi_df['Lat'], northern_hemi_df['Wind Speed'])[0],2)\n",
    "print(f\"There was a correlation value of: {correlation}\")"
   ]
  },
  {
   "cell_type": "code",
   "execution_count": null,
   "metadata": {},
   "outputs": [],
   "source": [
    "# Southern Hemisphere\n",
    "southern_hemi_df.plot(kind='scatter', x='Lat', y='Wind Speed',\n",
    "                 title='Latitude vs. Wind Speed (mph)', xlabel='Latitude', ylabel='Wind Speed (mph)', marker='x', color='red')\n",
    "s_lat_wind_reg = linear_reg(southern_hemi_df['Lat'], southern_hemi_df['Wind Speed'])\n",
    "\n",
    "plt.plot(southern_hemi_df['Lat'], s_lat_wind_reg, color='b')\n",
    "plt.show()\n",
    "\n",
    "correlation = round(st.pearsonr(southern_hemi_df['Lat'], southern_hemi_df['Wind Speed'])[0],2)\n",
    "print(f\"There was a correlation value of: {correlation}\")"
   ]
  },
  {
   "cell_type": "markdown",
   "metadata": {},
   "source": [
    "**Discussion about the linear relationship:** YOUR RESPONSE HERE"
   ]
  },
  {
   "cell_type": "code",
   "execution_count": null,
   "metadata": {},
   "outputs": [],
   "source": []
  }
 ],
 "metadata": {
  "anaconda-cloud": {},
  "kernel_info": {
   "name": "python3"
  },
  "kernelspec": {
   "display_name": "Python 3",
   "language": "python",
   "name": "python3"
  },
  "language_info": {
   "codemirror_mode": {
    "name": "ipython",
    "version": 3
   },
   "file_extension": ".py",
   "mimetype": "text/x-python",
   "name": "python",
   "nbconvert_exporter": "python",
   "pygments_lexer": "ipython3",
   "version": "3.9.16"
  },
  "latex_envs": {
   "LaTeX_envs_menu_present": true,
   "autoclose": false,
   "autocomplete": true,
   "bibliofile": "biblio.bib",
   "cite_by": "apalike",
   "current_citInitial": 1,
   "eqLabelWithNumbers": true,
   "eqNumInitial": 1,
   "hotkeys": {
    "equation": "Ctrl-E",
    "itemize": "Ctrl-I"
   },
   "labels_anchors": false,
   "latex_user_defs": false,
   "report_style_numbering": false,
   "user_envs_cfg": false
  },
  "nteract": {
   "version": "0.12.3"
  },
  "vscode": {
   "interpreter": {
    "hash": "aee8b7b246df8f9039afb4144a1f6fd8d2ca17a180786b69acc140d282b71a49"
   }
  }
 },
 "nbformat": 4,
 "nbformat_minor": 4
}
